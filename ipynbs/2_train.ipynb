{
 "cells": [
  {
   "cell_type": "code",
   "execution_count": 1,
   "metadata": {},
   "outputs": [],
   "source": [
    "import torch\n",
    "import sys\n",
    "sys.path.append('../')"
   ]
  },
  {
   "cell_type": "code",
   "execution_count": 2,
   "metadata": {},
   "outputs": [],
   "source": [
    "import os\n",
    "import torch\n",
    "import torch.distributed as dist\n",
    "from torch import nn\n",
    "from torch.nn.parallel import DistributedDataParallel as DDP\n",
    "\n",
    "import numpy as np\n",
    "import wandb\n",
    "\n",
    "from tqdm import tqdm\n",
    "from utils import accuracy\n",
    "from datasets import set_datasets\n",
    "from ddp_functions import setup, cleanup, set_dataloader\n",
    "from train_functions import train, inference, set_optimizer, set_lr_scheduler\n",
    "from utils import get_lr, color_print\n",
    "from CAWR import CosineAnnealingWarmUpRestarts\n",
    "from models import set_model\n",
    "from args import set_parser\n",
    "\n",
    "import torch.backends.cudnn as cudnn\n",
    "cudnn.benchmark = True\n",
    "\n",
    "from datetime import datetime\n",
    "from pytz import timezone\n"
   ]
  },
  {
   "cell_type": "code",
   "execution_count": 3,
   "metadata": {},
   "outputs": [],
   "source": [
    "train_dataset, _, _ = set_datasets(224)"
   ]
  },
  {
   "cell_type": "code",
   "execution_count": 4,
   "metadata": {},
   "outputs": [],
   "source": [
    "train_loader = torch.utils.data.DataLoader(\n",
    "        dataset=train_dataset,\n",
    "        batch_size=11,\n",
    "        num_workers=4,\n",
    "        pin_memory=True,\n",
    "    )"
   ]
  },
  {
   "cell_type": "code",
   "execution_count": 5,
   "metadata": {},
   "outputs": [
    {
     "name": "stderr",
     "output_type": "stream",
     "text": [
      "Using cache found in /root/.cache/torch/hub/facebookresearch_dinov2_main\n",
      "/root/.cache/torch/hub/facebookresearch_dinov2_main/dinov2/layers/swiglu_ffn.py:43: UserWarning: xFormers is available (SwiGLU)\n",
      "  warnings.warn(\"xFormers is available (SwiGLU)\")\n",
      "/root/.cache/torch/hub/facebookresearch_dinov2_main/dinov2/layers/attention.py:27: UserWarning: xFormers is available (Attention)\n",
      "  warnings.warn(\"xFormers is available (Attention)\")\n",
      "/root/.cache/torch/hub/facebookresearch_dinov2_main/dinov2/layers/block.py:33: UserWarning: xFormers is available (Block)\n",
      "  warnings.warn(\"xFormers is available (Block)\")\n"
     ]
    }
   ],
   "source": [
    "model = set_model('dinov2', rank = 'cuda', learning_method = 'classifier').cuda()"
   ]
  },
  {
   "cell_type": "code",
   "execution_count": 6,
   "metadata": {},
   "outputs": [],
   "source": [
    "from tqdm import tqdm"
   ]
  },
  {
   "cell_type": "code",
   "execution_count": 7,
   "metadata": {},
   "outputs": [
    {
     "name": "stderr",
     "output_type": "stream",
     "text": [
      "100%|██████████| 364/364 [00:05<00:00, 72.32it/s]\n"
     ]
    }
   ],
   "source": [
    "model.train()\n",
    "loss_function = torch.nn.CrossEntropyLoss().cuda()\n",
    "\n",
    "output_list = list()\n",
    "label_list = list()\n",
    "acc_list = list()\n",
    "loss_list = list()\n",
    "\n",
    "\n",
    "for data in tqdm(train_loader):\n",
    "    image, label = data\n",
    "    image = image.cuda()\n",
    "    label = label.cuda()\n",
    "    batch_size = label.shape[0]\n",
    "\n",
    "    output = model(image)\n",
    "\n",
    "    loss = loss_function(output, label)\n",
    "    acc = accuracy(output, label)\n",
    "\n",
    "    output_list.append(output.detach())\n",
    "    label_list.append(label)\n",
    "    acc_list.append(batch_size * acc)\n",
    "    loss_list.append(batch_size * loss)"
   ]
  },
  {
   "cell_type": "code",
   "execution_count": 17,
   "metadata": {},
   "outputs": [
    {
     "data": {
      "text/plain": [
       "torch.Size([364])"
      ]
     },
     "execution_count": 17,
     "metadata": {},
     "output_type": "execute_result"
    }
   ],
   "source": [
    "torch.stack(loss_list).shape"
   ]
  }
 ],
 "metadata": {
  "kernelspec": {
   "display_name": "Python 3",
   "language": "python",
   "name": "python3"
  },
  "language_info": {
   "codemirror_mode": {
    "name": "ipython",
    "version": 3
   },
   "file_extension": ".py",
   "mimetype": "text/x-python",
   "name": "python",
   "nbconvert_exporter": "python",
   "pygments_lexer": "ipython3",
   "version": "3.10.12"
  }
 },
 "nbformat": 4,
 "nbformat_minor": 2
}
